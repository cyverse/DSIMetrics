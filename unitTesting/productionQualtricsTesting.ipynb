{
 "cells": [
  {
   "cell_type": "code",
   "execution_count": 83,
   "metadata": {},
   "outputs": [],
   "source": [
    "import pandas as pd\n",
    "import psycopg2"
   ]
  },
  {
   "cell_type": "code",
   "execution_count": 99,
   "metadata": {},
   "outputs": [],
   "source": [
    "def create_workshops_list(row):\n",
    "    if pd.notnull(row.iloc[6]):\n",
    "        return list(range(len(row) - 8))\n",
    "    else:\n",
    "        return [i for i, workshop in enumerate(row[7:-1], start=0) if pd.notnull(workshop)]\n",
    "    \n",
    "seriesName = 'test'\n",
    "rawSurvey = pd.read_csv('../productionScripts/qualtricsCSVs/DataLab Workshops Template.csv')\n",
    "filteredSurvey = rawSurvey[rawSurvey.columns[18:]]\n",
    "filteredSurvey = filteredSurvey.drop([0,1])\n",
    "filteredSurvey.reset_index(inplace=True, drop=True)\n",
    "filteredSurvey['Workshops'] = filteredSurvey.apply(create_workshops_list, axis=1)\n",
    "filteredSurvey.drop(columns = filteredSurvey.columns[6:-2], inplace=True)\n",
    "filteredSurvey[\"Recontact\"] = filteredSurvey[\"Recontact\"].fillna('No').map({'Yes': True, 'No': False})\n",
    "filteredSurvey['Series'] = seriesName\n",
    "UA = filteredSurvey.dropna(subset=[\"UAEmail\"])\n",
    "nonUA = filteredSurvey.dropna(subset=[\"NonUAEmail\"])\n",
    "\n",
    "UA = UA.reset_index(drop=True)\n",
    "nonUA = nonUA.reset_index(drop=True)\n",
    "\n",
    "UA_Filtered = UA[[\"UAEmail\", \"FirstName\", \"LastName\", \"Workshops\", \"Series\", \"Recontact\"]]\n",
    "nonUA_Filtered = nonUA[[\"NonUAEmail\", \"FirstName\", \"LastName\", \"Organization\", \"Workshops\", \"Series\", \"Recontact\"]]"
   ]
  },
  {
   "cell_type": "code",
   "execution_count": 100,
   "metadata": {},
   "outputs": [
    {
     "data": {
      "text/html": [
       "<div>\n",
       "<style scoped>\n",
       "    .dataframe tbody tr th:only-of-type {\n",
       "        vertical-align: middle;\n",
       "    }\n",
       "\n",
       "    .dataframe tbody tr th {\n",
       "        vertical-align: top;\n",
       "    }\n",
       "\n",
       "    .dataframe thead th {\n",
       "        text-align: right;\n",
       "    }\n",
       "</style>\n",
       "<table border=\"1\" class=\"dataframe\">\n",
       "  <thead>\n",
       "    <tr style=\"text-align: right;\">\n",
       "      <th></th>\n",
       "      <th>UAEmail</th>\n",
       "      <th>FirstName</th>\n",
       "      <th>LastName</th>\n",
       "      <th>Workshops</th>\n",
       "      <th>Series</th>\n",
       "      <th>Recontact</th>\n",
       "    </tr>\n",
       "  </thead>\n",
       "  <tbody>\n",
       "    <tr>\n",
       "      <th>0</th>\n",
       "      <td>austinmedina@arizona.edu</td>\n",
       "      <td>Austin</td>\n",
       "      <td>Medina</td>\n",
       "      <td>[0, 2]</td>\n",
       "      <td>test</td>\n",
       "      <td>True</td>\n",
       "    </tr>\n",
       "    <tr>\n",
       "      <th>1</th>\n",
       "      <td>austinmedina@arizona.edu</td>\n",
       "      <td>Austin</td>\n",
       "      <td>Medina</td>\n",
       "      <td>[0, 1, 2, 3]</td>\n",
       "      <td>test</td>\n",
       "      <td>True</td>\n",
       "    </tr>\n",
       "  </tbody>\n",
       "</table>\n",
       "</div>"
      ],
      "text/plain": [
       "                    UAEmail FirstName LastName     Workshops Series  Recontact\n",
       "0  austinmedina@arizona.edu    Austin   Medina        [0, 2]   test       True\n",
       "1  austinmedina@arizona.edu    Austin   Medina  [0, 1, 2, 3]   test       True"
      ]
     },
     "execution_count": 100,
     "metadata": {},
     "output_type": "execute_result"
    }
   ],
   "source": [
    "UA_Filtered"
   ]
  },
  {
   "cell_type": "code",
   "execution_count": 102,
   "metadata": {},
   "outputs": [
    {
     "data": {
      "text/plain": [
       "[113, 115]"
      ]
     },
     "execution_count": 102,
     "metadata": {},
     "output_type": "execute_result"
    }
   ],
   "source": [
    "conn = psycopg2.connect(database = \"DataLab\", \n",
    "                            user = \"postgres\", \n",
    "                            host= 'localhost',\n",
    "                            password = \"\",\n",
    "                            port = 5432)\n",
    "\n",
    "cur = conn.cursor()\n",
    "cur.execute(\"\"\"\n",
    "                SELECT workshopID FROM workshops WHERE seriesID = %s\n",
    "                \"\"\", (14,))\n",
    "conn.commit()\n",
    "workshops = cur.fetchall()\n",
    "workshopsToAdd = [workshops[i][0] for i in UA_Filtered.loc[0]['Workshops']]\n",
    "workshopsToAdd"
   ]
  },
  {
   "cell_type": "code",
   "execution_count": 64,
   "metadata": {},
   "outputs": [],
   "source": [
    "\n",
    "\n",
    "# filteredSurvey['Workshops'] = filteredSurvey.iloc[:, 6:-1].apply(lambda row: row.dropna().tolist(), axis=1)\n",
    "# filteredSurvey.drop(columns = filteredSurvey.columns[6:-2], inplace=True)\n",
    "# filteredSurvey = filteredSurvey.drop_duplicates(subset=[\"NonUAEmail\", 'UAEmail'])\n",
    "# filteredSurvey[\"Series\"] = seriesName\n",
    "# filteredSurvey[\"Recontact\"] = filteredSurvey[\"Recontact\"].fillna('No').map({'Yes': True, 'No': False})"
   ]
  },
  {
   "cell_type": "code",
   "execution_count": 68,
   "metadata": {},
   "outputs": [
    {
     "data": {
      "text/html": [
       "<div>\n",
       "<style scoped>\n",
       "    .dataframe tbody tr th:only-of-type {\n",
       "        vertical-align: middle;\n",
       "    }\n",
       "\n",
       "    .dataframe tbody tr th {\n",
       "        vertical-align: top;\n",
       "    }\n",
       "\n",
       "    .dataframe thead th {\n",
       "        text-align: right;\n",
       "    }\n",
       "</style>\n",
       "<table border=\"1\" class=\"dataframe\">\n",
       "  <thead>\n",
       "    <tr style=\"text-align: right;\">\n",
       "      <th></th>\n",
       "      <th>UA-Affiliated</th>\n",
       "      <th>FirstName</th>\n",
       "      <th>LastName</th>\n",
       "      <th>UAEmail</th>\n",
       "      <th>Organization</th>\n",
       "      <th>NonUAEmail</th>\n",
       "      <th>Workshops_1</th>\n",
       "      <th>Workshops_2</th>\n",
       "      <th>Workshops_3</th>\n",
       "      <th>Workshops_4</th>\n",
       "      <th>Workshops_5</th>\n",
       "      <th>Recontact</th>\n",
       "      <th>Workshops</th>\n",
       "    </tr>\n",
       "  </thead>\n",
       "  <tbody>\n",
       "    <tr>\n",
       "      <th>0</th>\n",
       "      <td>Yes</td>\n",
       "      <td>Austin</td>\n",
       "      <td>Medina</td>\n",
       "      <td>austinmedina@arizona.edu</td>\n",
       "      <td>NaN</td>\n",
       "      <td>NaN</td>\n",
       "      <td>NaN</td>\n",
       "      <td>All of the sessions</td>\n",
       "      <td>NaN</td>\n",
       "      <td>All of the sessions</td>\n",
       "      <td>NaN</td>\n",
       "      <td>Yes</td>\n",
       "      <td>[0, 2]</td>\n",
       "    </tr>\n",
       "    <tr>\n",
       "      <th>1</th>\n",
       "      <td>Yes</td>\n",
       "      <td>Austin</td>\n",
       "      <td>Medina</td>\n",
       "      <td>austinmedina@arizona.edu</td>\n",
       "      <td>NaN</td>\n",
       "      <td>NaN</td>\n",
       "      <td>All of the sessions</td>\n",
       "      <td>NaN</td>\n",
       "      <td>NaN</td>\n",
       "      <td>NaN</td>\n",
       "      <td>NaN</td>\n",
       "      <td>Yes</td>\n",
       "      <td>[0, 1, 2, 3]</td>\n",
       "    </tr>\n",
       "  </tbody>\n",
       "</table>\n",
       "</div>"
      ],
      "text/plain": [
       "  UA-Affiliated FirstName LastName                   UAEmail Organization  \\\n",
       "0           Yes    Austin   Medina  austinmedina@arizona.edu          NaN   \n",
       "1           Yes    Austin   Medina  austinmedina@arizona.edu          NaN   \n",
       "\n",
       "  NonUAEmail          Workshops_1          Workshops_2 Workshops_3  \\\n",
       "0        NaN                  NaN  All of the sessions         NaN   \n",
       "1        NaN  All of the sessions                  NaN         NaN   \n",
       "\n",
       "           Workshops_4 Workshops_5 Recontact     Workshops  \n",
       "0  All of the sessions         NaN       Yes        [0, 2]  \n",
       "1                  NaN         NaN       Yes  [0, 1, 2, 3]  "
      ]
     },
     "execution_count": 68,
     "metadata": {},
     "output_type": "execute_result"
    }
   ],
   "source": [
    "filteredSurvey"
   ]
  },
  {
   "cell_type": "code",
   "execution_count": 16,
   "metadata": {},
   "outputs": [],
   "source": []
  }
 ],
 "metadata": {
  "kernelspec": {
   "display_name": "Metrics",
   "language": "python",
   "name": "python3"
  },
  "language_info": {
   "codemirror_mode": {
    "name": "ipython",
    "version": 3
   },
   "file_extension": ".py",
   "mimetype": "text/x-python",
   "name": "python",
   "nbconvert_exporter": "python",
   "pygments_lexer": "ipython3",
   "version": "3.10.12"
  }
 },
 "nbformat": 4,
 "nbformat_minor": 2
}
