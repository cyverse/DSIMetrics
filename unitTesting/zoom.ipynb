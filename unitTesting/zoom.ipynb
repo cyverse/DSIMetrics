{
 "cells": [
  {
   "cell_type": "code",
   "execution_count": 3,
   "metadata": {},
   "outputs": [],
   "source": [
    "import pandas as pd\n",
    "import requests\n",
    "import psycopg2\n",
    "import base64"
   ]
  },
  {
   "cell_type": "code",
   "execution_count": 2,
   "metadata": {},
   "outputs": [],
   "source": [
    "def getRefreshToken():    \n",
    "    conn = psycopg2.connect(database = \"DataLab\", \n",
    "                                    user = \"postgres\", \n",
    "                                    host= 'localhost',\n",
    "                                    password = \"\",\n",
    "                                    port = 5432)\n",
    "\n",
    "    cur = conn.cursor()\n",
    "    cur.execute(\"\"\"SELECT ElementValue FROM programvariables WHERE ElementName = 'refresh_token'\"\"\")\n",
    "    tokenList = cur.fetchall()\n",
    "    # Make the changes to the database persistent\n",
    "    conn.commit()\n",
    "    # Close cursor and communication with the database\n",
    "    cur.close()\n",
    "    conn.close()\n",
    "    return tokenList[0]"
   ]
  },
  {
   "cell_type": "code",
   "execution_count": 8,
   "metadata": {},
   "outputs": [],
   "source": [
    "def getAccessToken(refreshToken):\n",
    "    conn = psycopg2.connect(database = \"DataLab\", \n",
    "                            user = \"postgres\", \n",
    "                            host= 'localhost',\n",
    "                            password = \"\",\n",
    "                            port = 5432)\n",
    "\n",
    "    cur = conn.cursor()\n",
    "    cur.execute(\"\"\"SELECT ElementValue FROM programvariables WHERE ElementName = 'zoom_client_id'\"\"\")\n",
    "    tokenList = cur.fetchone()\n",
    "    client_id = tokenList[0]\n",
    "\n",
    "    cur.execute(\"\"\"SELECT ElementValue FROM programvariables WHERE ElementName = 'zoom_client_secret'\"\"\")\n",
    "    tokenList = cur.fetchone()\n",
    "    client_secret = tokenList[0]\n",
    "    conn.commit()\n",
    "\n",
    "    auth_string = f\"{client_id}:{client_secret}\"\n",
    "    encoded_auth = base64.b64encode(auth_string.encode()).decode()\n",
    "    auth_header = f\"Basic {encoded_auth}\"\n",
    "\n",
    "    data = {\n",
    "        \"refresh_token\": refreshToken,\n",
    "        \"grant_type\": \"refresh_token\",\n",
    "    }\n",
    "\n",
    "    headers = {\n",
    "        \"Authorization\": auth_header,\n",
    "        \"Content-Type\": \"application/x-www-form-urlencoded\"\n",
    "    }\n",
    "\n",
    "    # Send POST request\n",
    "    response = requests.post(\"https://zoom.us/oauth/token\", headers=headers, data=data)\n",
    "\n",
    "    re = response.json()\n",
    "    accessToken = re['access_token']\n",
    "    refreshToken = re['refresh_token']\n",
    "\n",
    "    updateString = f\"UPDATE programvariables SET ElementValue = '{refreshToken}' WHERE ElementName = 'refresh_token';\"\n",
    "    cur.execute(updateString)\n",
    "    conn.commit()\n",
    "    cur.close()\n",
    "    conn.close()\n",
    "\n",
    "    return accessToken"
   ]
  },
  {
   "cell_type": "code",
   "execution_count": 4,
   "metadata": {},
   "outputs": [],
   "source": [
    "def getMeetingID():\n",
    "    conn = psycopg2.connect(database = \"DataLab\", \n",
    "                            user = \"postgres\", \n",
    "                            host= 'localhost',\n",
    "                            password = \"\",\n",
    "                            port = 5432)\n",
    "\n",
    "    cur = conn.cursor()\n",
    "    cur.execute(\"\"\"SELECT ElementValue FROM programvariables WHERE ElementName = 'zoom_meeting_id'\"\"\")\n",
    "    tokenList = cur.fetchall()\n",
    "    conn.commit()\n",
    "    cur.close()\n",
    "    conn.close()\n",
    "    return tokenList[0]"
   ]
  },
  {
   "cell_type": "code",
   "execution_count": 18,
   "metadata": {},
   "outputs": [],
   "source": [
    "def getParticipants():\n",
    "    refreshToken = getRefreshToken()\n",
    "    accessToken = getAccessToken(refreshToken)\n",
    "    #meetingId = getMeetingID()\n",
    "    url = f'https://api.zoom.us/v2/past_meetings/86423223879/participants'\n",
    "\n",
    "    headers = {\n",
    "        'Authorization':f'Bearer {accessToken}',\n",
    "        'page_size':'100'\n",
    "    }\n",
    "\n",
    "    response = requests.get(url, headers=headers)\n",
    "\n",
    "    if (response.status_code == 200):\n",
    "        people = (response.json())['participants']\n",
    "        return people\n",
    "    else:\n",
    "        print(f'Error: {response.status_code}')\n",
    "        return None"
   ]
  },
  {
   "cell_type": "code",
   "execution_count": 19,
   "metadata": {},
   "outputs": [],
   "source": []
  },
  {
   "cell_type": "code",
   "execution_count": 38,
   "metadata": {},
   "outputs": [],
   "source": [
    "from datetime import datetime\n",
    "import pytz\n",
    "\n",
    "def convert_to_arizona_time(utc_time_str):\n",
    "    # Parse the UTC time string into a datetime object\n",
    "    utc_time = datetime.strptime(utc_time_str, '%Y-%m-%dT%H:%M:%SZ')\n",
    "\n",
    "    # Define UTC timezone\n",
    "    utc_timezone = pytz.timezone('UTC')\n",
    "\n",
    "    # Convert the UTC time to Arizona time\n",
    "    arizona_timezone = pytz.timezone('America/Phoenix')\n",
    "    arizona_time = utc_timezone.localize(utc_time).astimezone(arizona_timezone)\n",
    "\n",
    "    return arizona_time.time()"
   ]
  },
  {
   "cell_type": "code",
   "execution_count": 28,
   "metadata": {},
   "outputs": [],
   "source": [
    "conn = psycopg2.connect(database = \"DataLab\", \n",
    "                            user = \"postgres\", \n",
    "                            host= 'localhost',\n",
    "                            password = \"\",\n",
    "                            port = 5432)\n",
    "\n",
    "cur = conn.cursor()\n",
    "cur.execute(\"\"\"\n",
    "                SELECT workshops.WorkshopID, workshops.SeriesID, series.ZoomMeetingID, series.StartTime, series.EndTime FROM workshops\n",
    "                JOIN series on workshops.SeriesID = series.SeriesID\n",
    "                WHERE workshops.Workshopdate = now()::date;\n",
    "                \"\"\")\n",
    "workshopList = cur.fetchall()\n",
    "workshop = workshopList[0]\n",
    "conn.commit()\n",
    "workshopList\n",
    "\n",
    "people = getParticipants()"
   ]
  },
  {
   "cell_type": "code",
   "execution_count": 46,
   "metadata": {},
   "outputs": [
    {
     "data": {
      "text/plain": [
       "(63, 4, '', datetime.time(16, 0), datetime.time(17, 0))"
      ]
     },
     "execution_count": 46,
     "metadata": {},
     "output_type": "execute_result"
    }
   ],
   "source": [
    "workshop"
   ]
  },
  {
   "cell_type": "code",
   "execution_count": 51,
   "metadata": {},
   "outputs": [
    {
     "name": "stdout",
     "output_type": "stream",
     "text": [
      "Entered\n"
     ]
    }
   ],
   "source": [
    "from datetime import timedelta, date\n",
    "\n",
    "\n",
    "for person in people:\n",
    "    #Get the times the person was in the zoom\n",
    "    userJoin = convert_to_arizona_time(person['join_time'])\n",
    "    userLeave = convert_to_arizona_time(person['leave_time'])\n",
    "    today = date.today()\n",
    "\n",
    "    #Find the difference between when they joined and when they left. The combine is needed since you cannot subtract datetime.time objects\n",
    "    joinDifference = datetime.combine(today, userJoin) - datetime.combine(today, workshop[3])\n",
    "    leaveDifference = datetime.combine(today, userLeave) - datetime.combine(today, workshop[4])\n",
    "\n",
    "    #If they joined within 15 minutes of the start time or left within 15 minutes of the end time we will check them in\n",
    "    if ( joinDifference < timedelta(minutes=15) ) or ( leaveDifference < timedelta(minutes=15) ):\n",
    "        "
   ]
  },
  {
   "cell_type": "code",
   "execution_count": 1,
   "metadata": {},
   "outputs": [],
   "source": [
    "import requests\n",
    "import base64\n",
    "from datetime import datetime, timedelta, date\n",
    "import pytz\n",
    "import psycopg2  \n",
    "\n",
    "def getRefreshToken(workshopID, conn, cur):    \n",
    "    cur.execute(\"\"\"SELECT RefreshToken FROM ZoomRefreshTokens \n",
    "                WHERE ZoomMeetingID = %s\n",
    "                \"\"\", (workshopID,))\n",
    "    tokenList = cur.fetchone()\n",
    "\n",
    "    conn.commit()\n",
    "    return tokenList[0]\n",
    "\n",
    "def getAccessToken(refreshToken, zoomMeetingID, conn, cur):\n",
    "    cur.execute(\"\"\"SELECT ElementValue FROM programvariables WHERE ElementName = 'zoom_client_id'\"\"\")\n",
    "    tokenList = cur.fetchone()\n",
    "    client_id = tokenList[0]\n",
    "    conn.commit()\n",
    "\n",
    "    cur.execute(\"\"\"SELECT ElementValue FROM programvariables WHERE ElementName = 'zoom_client_secret'\"\"\")\n",
    "    tokenList = cur.fetchone()\n",
    "    client_secret = tokenList[0]\n",
    "    conn.commit()\n",
    "\n",
    "    auth_string = f\"{client_id}:{client_secret}\"\n",
    "    encoded_auth = base64.b64encode(auth_string.encode()).decode()\n",
    "    auth_header = f\"Basic {encoded_auth}\"\n",
    "\n",
    "    data = {\n",
    "        \"refresh_token\": refreshToken,\n",
    "        \"grant_type\": \"refresh_token\",\n",
    "    }\n",
    "\n",
    "    headers = {\n",
    "        \"Authorization\": auth_header,\n",
    "        \"Content-Type\": \"application/x-www-form-urlencoded\"\n",
    "    }\n",
    "\n",
    "    # Send POST request\n",
    "    response = requests.post(\"https://zoom.us/oauth/token\", headers=headers, data=data)\n",
    "\n",
    "    re = response.json()\n",
    "    accessToken = re['access_token']\n",
    "    refreshToken = re['refresh_token']\n",
    "\n",
    "    cur.execute(\"\"\"UPDATE ZoomRefreshTokens \n",
    "                SET RefreshToken = %s \n",
    "                WHERE ZoomMeetingID = %s\n",
    "                \"\"\", (refreshToken, zoomMeetingID))\n",
    "    conn.commit()\n",
    "\n",
    "    return accessToken\n",
    "\n",
    "def getParticipants(zoomMeetingID, conn, cur):\n",
    "    refreshToken = getRefreshToken(zoomMeetingID, conn, cur)\n",
    "    accessToken = getAccessToken(refreshToken, zoomMeetingID, conn, cur)\n",
    "    url = f'https://api.zoom.us/v2/past_meetings/{zoomMeetingID}/participants'\n",
    "\n",
    "    headers = {\n",
    "        'Authorization':f'Bearer {accessToken}',\n",
    "        'page_size':'100'\n",
    "    }\n",
    "\n",
    "    response = requests.get(url, headers=headers)\n",
    "\n",
    "    if (response.status_code == 200):\n",
    "        people = (response.json())\n",
    "        return people['participants']\n",
    "    else:\n",
    "        print(f'Error: {response.status_code}')\n",
    "        return None\n",
    "    \n",
    "def uploadCheckIn(row, workshopID, conn, cur):\n",
    "\n",
    "    #Fetch the supposed ID from the has function\n",
    "    cur.callproc('hashRegistree', (row.iloc[2],))\n",
    "    hashedNum = cur.fetchone()[0]\n",
    "    conn.commit()\n",
    "\n",
    "    #See if the RegID is in the databse already\n",
    "    cur.execute(\"\"\"SELECT RegID FROM registreeInfo WHERE RegID = %s\"\"\", (hashedNum,))\n",
    "    match = cur.fetchall()\n",
    "    conn.commit()\n",
    "\n",
    "    #If the list isnt empty then a match was found so we will update their entry\n",
    "    if (len(match) != 0):\n",
    "        cur.execute(\"\"\"\n",
    "                    UPDATE RegistreeWorkshops\n",
    "                    SET CheckedIn = TRUE\n",
    "                    WHERE RegID = %s AND WorkshopId = %s\n",
    "                    \"\"\", (hashedNum, workshopID))\n",
    "        conn.commit()\n",
    "    #If the list is empty, there is no registrant matching the workshop so we will need to create an entry for them\n",
    "    else:\n",
    "        print(\"New registree created: \" + str(hashedNum))\n",
    "        #Create a registreeInfo entry for the person\n",
    "        cur.execute(\"\"\"\n",
    "                    INSERT INTO registreeInfo (RegID, FirstName, LastName, NetID, Email, College, Department, Major, Recontact)\n",
    "                    VALUES (%s, %s, %s, %s, %s, %s, %s, %s)\n",
    "                    ON CONFLICT DO NOTHING;\n",
    "                    \"\"\", (hashedNum, row.iloc[0], row.iloc[1], None, row.iloc[2], row.iloc[3], None, None, 0))\n",
    "        conn.commit()\n",
    "\n",
    "        #Create an entry for the person and the specific workshop they attended\n",
    "        cur.execute(\"\"\"\n",
    "                    INSERT INTO RegistreeWorkshops (RegID, WorkshopID, Registered, CheckedIn)\n",
    "                    VALUES (%s, %s, %s, %s)\n",
    "                    ON CONFLICT DO NOTHING\n",
    "                    \"\"\", (hashedNum, workshopID, False, True))\n",
    "        conn.commit()   \n",
    "\n",
    "def convert_to_arizona_time(utc_time_str):\n",
    "    # Parse the UTC time string into a datetime object\n",
    "    utc_time = datetime.strptime(utc_time_str, '%Y-%m-%dT%H:%M:%SZ')\n",
    "\n",
    "    # Define UTC timezone\n",
    "    utc_timezone = pytz.timezone('UTC')\n",
    "\n",
    "    # Convert the UTC time to Arizona time\n",
    "    arizona_timezone = pytz.timezone('America/Phoenix')\n",
    "    arizona_time = utc_timezone.localize(utc_time).astimezone(arizona_timezone)\n",
    "\n",
    "    return arizona_time.time()\n",
    "\n",
    "def zoomProcess(conn, cur):\n",
    "    #86423223879\n",
    "    cur.execute(\"\"\"\n",
    "                SELECT workshops.WorkshopID, workshops.SeriesID, series.ZoomMeetingID, series.StartTime, series.EndTime FROM workshops\n",
    "                JOIN series on workshops.SeriesID = series.SeriesID\n",
    "                WHERE workshops.Workshopdate = now()::date\n",
    "                \"\"\")\n",
    "    workshopList = cur.fetchall()\n",
    "    conn.commit()\n",
    "\n",
    "    for workshop in workshopList:\n",
    "        participants = getParticipants(workshop[2], conn, cur) #ZoomMeetingID\n",
    "\n",
    "        for person in participants:\n",
    "            #Get the times the person was in the zoom\n",
    "            userJoin = convert_to_arizona_time(person['join_time'])\n",
    "            userLeave = convert_to_arizona_time(person['leave_time'])\n",
    "            today = date.today()\n",
    "\n",
    "            #Find the difference between when they joined and when they left. The combine is needed since you cannot subtract datetime.time objects\n",
    "            joinDifference = abs(datetime.combine(today, userJoin) - datetime.combine(today, workshop[3]))\n",
    "            leaveDifference = abs(datetime.combine(today, userLeave) - datetime.combine(today, workshop[4]))\n",
    "\n",
    "            #If they joined within 15 minutes of the start time or left within 15 minutes of the end time we will check them in\n",
    "            if ( joinDifference < timedelta(minutes=15) ) or  ( leaveDifference < timedelta(minutes=15) ):\n",
    "                print(\"Checked in: \" + person['user_email'])\n",
    "                uploadCheckIn(person['user_email'], workshop[0], conn, cur)\n"
   ]
  },
  {
   "cell_type": "code",
   "execution_count": 2,
   "metadata": {},
   "outputs": [],
   "source": [
    "conn = psycopg2.connect(database = \"DataLab\", \n",
    "                            user = \"postgres\", \n",
    "                            host= 'localhost',\n",
    "                            password = \"\",\n",
    "                            port = 5432)\n",
    "\n",
    "cur = conn.cursor()\n",
    "\n",
    "cur.execute(\"\"\"\n",
    "                SELECT workshops.WorkshopID, workshops.SeriesID, series.ZoomMeetingID, series.StartTime, series.EndTime FROM workshops\n",
    "                JOIN series on workshops.SeriesID = series.SeriesID\n",
    "                WHERE workshops.Workshopdate = now()::date\n",
    "                \"\"\")\n",
    "workshopList = cur.fetchall()\n",
    "conn.commit()\n",
    "conn.close()\n",
    "cur.close()"
   ]
  },
  {
   "cell_type": "code",
   "execution_count": 3,
   "metadata": {},
   "outputs": [
    {
     "data": {
      "text/plain": [
       "[(71, 4, '86423223879', datetime.time(16, 0), datetime.time(17, 0))]"
      ]
     },
     "execution_count": 3,
     "metadata": {},
     "output_type": "execute_result"
    }
   ],
   "source": [
    "workshopList"
   ]
  },
  {
   "cell_type": "code",
   "execution_count": 4,
   "metadata": {},
   "outputs": [],
   "source": [
    "conn = psycopg2.connect(database = \"DataLab\", \n",
    "                            user = \"postgres\", \n",
    "                            host= 'localhost',\n",
    "                            password = \"\",\n",
    "                            port = 5432)\n",
    "\n",
    "cur = conn.cursor()\n",
    "\n",
    "particpants = getParticipants(workshopList[0][2], conn, cur)\n",
    "conn.commit()\n",
    "conn.close()\n",
    "cur.close()"
   ]
  },
  {
   "cell_type": "code",
   "execution_count": 5,
   "metadata": {},
   "outputs": [
    {
     "data": {
      "text/plain": [
       "[{'id': 'yXxO1qhiQkmJy4b80J8xAQ',\n",
       "  'user_id': '16778240',\n",
       "  'name': 'Carlos Lizárraga',\n",
       "  'user_email': 'clizarraga@arizona.edu',\n",
       "  'join_time': '2024-04-22T23:50:25Z',\n",
       "  'leave_time': '2024-04-22T23:50:38Z',\n",
       "  'duration': 13,\n",
       "  'registrant_id': '',\n",
       "  'failover': False,\n",
       "  'status': 'in_meeting'}]"
      ]
     },
     "execution_count": 5,
     "metadata": {},
     "output_type": "execute_result"
    }
   ],
   "source": [
    "particpants"
   ]
  },
  {
   "cell_type": "code",
   "execution_count": 6,
   "metadata": {},
   "outputs": [
    {
     "name": "stdout",
     "output_type": "stream",
     "text": [
      "clizarraga@arizona.edu\n",
      "id               yXxO1qhiQkmJy4b80J8xAQ\n",
      "user_id                        16778240\n",
      "name                   Carlos Lizárraga\n",
      "user_email       clizarraga@arizona.edu\n",
      "join_time          2024-04-22T23:50:25Z\n",
      "leave_time         2024-04-22T23:50:38Z\n",
      "duration                             13\n",
      "registrant_id                          \n",
      "failover                          False\n",
      "status                       in_meeting\n",
      "dtype: object\n"
     ]
    }
   ],
   "source": [
    "import pandas as pd\n",
    "for person in particpants:\n",
    "    print(person['user_email'])\n",
    "    data = pd.Series(person)\n",
    "    print(data)"
   ]
  },
  {
   "cell_type": "code",
   "execution_count": 11,
   "metadata": {},
   "outputs": [
    {
     "data": {
      "text/plain": [
       "['pepe']"
      ]
     },
     "execution_count": 11,
     "metadata": {},
     "output_type": "execute_result"
    }
   ],
   "source": []
  }
 ],
 "metadata": {
  "kernelspec": {
   "display_name": "Metrics",
   "language": "python",
   "name": "python3"
  },
  "language_info": {
   "codemirror_mode": {
    "name": "ipython",
    "version": 3
   },
   "file_extension": ".py",
   "mimetype": "text/x-python",
   "name": "python",
   "nbconvert_exporter": "python",
   "pygments_lexer": "ipython3",
   "version": "3.10.12"
  }
 },
 "nbformat": 4,
 "nbformat_minor": 2
}
