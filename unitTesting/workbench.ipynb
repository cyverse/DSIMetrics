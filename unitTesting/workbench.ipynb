{
 "cells": [
  {
   "cell_type": "code",
   "execution_count": 2,
   "metadata": {},
   "outputs": [],
   "source": [
    "import pandas as pd\n",
    "import psycopg2"
   ]
  },
  {
   "cell_type": "code",
   "execution_count": 6,
   "metadata": {},
   "outputs": [
    {
     "data": {
      "text/plain": [
       "'egl9Nc1pKnEswZ1hUMfXjjNJ50wTP9LhBHcJa4XF'"
      ]
     },
     "execution_count": 6,
     "metadata": {},
     "output_type": "execute_result"
    }
   ],
   "source": [
    "conn = psycopg2.connect(database = \"DataLab\", \n",
    "                            user = \"postgres\", \n",
    "                            host= 'localhost',\n",
    "                            password = \"\",\n",
    "                            port = 5432)\n",
    "cur = conn.cursor()\n",
    "\n",
    "cur.execute(\"\"\"SELECT ElementValue FROM programvariables WHERE ElementName = 'qualtrics_api_token'\"\"\")\n",
    "tokenList = cur.fetchone()\n",
    "conn.commit()\n",
    "apiKey = tokenList[0]\n",
    "apiKey\n"
   ]
  },
  {
   "cell_type": "code",
   "execution_count": 4,
   "metadata": {},
   "outputs": [],
   "source": [
    "conn = psycopg2.connect(database = \"DataLab\", \n",
    "                            user = \"postgres\", \n",
    "                            host= 'localhost',\n",
    "                            password = \"\",\n",
    "                            port = 5432)\n",
    "cur = conn.cursor()\n",
    "\n",
    "cur.execute(\"\"\"\n",
    "            SELECT * FROM registreeworkshops WHERE checkedin = True AND registered = False;\n",
    "            \"\"\")\n",
    "conn.commit()\n",
    "rows = cur.fetchall()\n",
    "\n",
    "cur.close()\n",
    "conn.close()"
   ]
  },
  {
   "cell_type": "code",
   "execution_count": 6,
   "metadata": {},
   "outputs": [],
   "source": [
    "rando = pd.DataFrame(data=rows, columns=['RegID', 'WorkshopID', 'Registered', 'CheckedIn'])"
   ]
  },
  {
   "cell_type": "code",
   "execution_count": 10,
   "metadata": {},
   "outputs": [],
   "source": [
    "conn = psycopg2.connect(database = \"DataLab\", \n",
    "                            user = \"postgres\", \n",
    "                            host= 'localhost',\n",
    "                            password = \"\",\n",
    "                            port = 5432)\n",
    "cur = conn.cursor()\n",
    "\n",
    "emails = []\n",
    "\n",
    "for _,row in rando.iterrows():\n",
    "        cur.execute(\"\"\"\n",
    "            SELECT Email FROM registreeInfo WHERE RegID = %s;\n",
    "            \"\"\", (row.iloc[0],))\n",
    "        conn.commit()\n",
    "        rows = cur.fetchone()\n",
    "        emails.append(rows[0])\n",
    "\n",
    "\n",
    "cur.close()\n",
    "conn.close()"
   ]
  },
  {
   "cell_type": "code",
   "execution_count": 19,
   "metadata": {},
   "outputs": [],
   "source": [
    "conn = psycopg2.connect(database = \"DataLab\", \n",
    "                            user = \"postgres\", \n",
    "                            host= 'localhost',\n",
    "                            password = \"\",\n",
    "                            port = 5432)\n",
    "cur = conn.cursor()\n",
    "cur.execute(\"\"\"\n",
    "                SELECT workshops.WorkshopID, workshops.SeriesID, series.ZoomMeetingID, series.StartTime, series.EndTime FROM workshops\n",
    "                JOIN series on workshops.SeriesID = series.SeriesID\n",
    "                WHERE workshops.Workshopdate = now()::date;\n",
    "                \"\"\")\n",
    "workshopList = cur.fetchall()\n",
    "conn.commit()"
   ]
  },
  {
   "cell_type": "code",
   "execution_count": 20,
   "metadata": {},
   "outputs": [],
   "source": [
    "series = pd.DataFrame(data=workshopList, columns=['WorkshopID', 'SeriesID', 'ZoomID', 'StartTime', 'EndTime'])"
   ]
  },
  {
   "cell_type": "code",
   "execution_count": 2,
   "metadata": {},
   "outputs": [],
   "source": [
    "import psycopg2\n",
    "from datetime import datetime"
   ]
  },
  {
   "cell_type": "code",
   "execution_count": 6,
   "metadata": {},
   "outputs": [],
   "source": [
    "time = datetime(2024, 4, 1, 14, 1, 30)\n",
    "conn = psycopg2.connect(database = \"DataLab\", \n",
    "                            user = \"postgres\", \n",
    "                            host= 'localhost',\n",
    "                            password = \"\",\n",
    "                            port = 5432)\n",
    "cur = conn.cursor()\n",
    "cur.execute(\"\"\"SELECT DISTINCT SeriesID FROM workshops \n",
    "            WHERE workshopDate = %s::date\n",
    "            \"\"\", (time,))\n",
    "match = cur.fetchall()\n",
    "conn.commit()\n",
    "cur.close()\n",
    "conn.close()"
   ]
  },
  {
   "cell_type": "code",
   "execution_count": 8,
   "metadata": {},
   "outputs": [],
   "source": [
    "import psycopg2\n",
    "import pandas as pd\n",
    "\n",
    "conn = psycopg2.connect(\n",
    "    database=\"DataLab\",\n",
    "    user=\"postgres\",\n",
    "    host='localhost',\n",
    "    password=\"\",\n",
    "    port=5432\n",
    ")\n",
    "\n",
    "# Create a cursor object\n",
    "cur = conn.cursor()\n",
    "\n",
    "# Read the CSV file containing the names\n",
    "names_df = pd.read_csv(\"./Unregistered.csv\")\n",
    "\n",
    "# Initialize an empty DataFrame to store the results\n",
    "results_df = pd.DataFrame(columns=['First Name', 'Last Name', 'Email'])\n",
    "\n",
    "# Iterate over each row in the DataFrame\n",
    "for _, row in names_df.iterrows():\n",
    "    first_name = row['First Name']\n",
    "    last_name = row['Last Name']\n",
    "    email = row['Email']\n",
    "\n",
    "    # Execute the SELECT query for the current name\n",
    "    cur.execute(\"\"\"\n",
    "        SELECT ri.FirstName, ri.LastName, ri.Email\n",
    "        FROM RegistreeInfo as ri\n",
    "        JOIN RegistreeWorkshops as rw ON ri.RegID = rw.RegID\n",
    "        WHERE (rw.CheckedIn = TRUE OR rw.Registered = TRUE)\n",
    "        AND (ri.FirstName = %s AND ri.LastName = %s)\n",
    "    \"\"\", (first_name, last_name))\n",
    "\n",
    "    # Fetch all rows from the result set\n",
    "    rows = cur.fetchall()\n",
    "\n",
    "    # Create a DataFrame from the fetched rows\n",
    "    df = pd.DataFrame(rows, columns=['First Name', 'Last Name', 'Email'])\n",
    "\n",
    "    # Concatenate the DataFrame to the results DataFrame\n",
    "    results_df = pd.concat([results_df, df])\n",
    "\n",
    "# Write the results DataFrame to a CSV file\n",
    "results_df.to_csv(\"./Duplicates.csv\", index=False)\n",
    "\n",
    "# Close the cursor and connection\n",
    "cur.close()\n",
    "conn.close()\n"
   ]
  },
  {
   "cell_type": "code",
   "execution_count": 10,
   "metadata": {},
   "outputs": [
    {
     "name": "stdout",
     "output_type": "stream",
     "text": [
      "2024-04-23 00:00:00\n",
      "True\n"
     ]
    }
   ],
   "source": [
    "from datetime import datetime, timezone, timedelta\n",
    "\n",
    "def are_dates_equal(arizona_date_str, utc_date_str):\n",
    "    arizona_date = datetime.strptime(arizona_date_str, \"%Y-%m-%d\")\n",
    "    utc_date = datetime.strptime(utc_date_str, \"%Y-%m-%dT%H:%M:%SZ\").replace(tzinfo=timezone.utc)\n",
    "    arizona_to_utc_offset = timedelta(hours=7)  # Arizona is UTC-7\n",
    "    arizona_date_utc = utc_date - arizona_to_utc_offset\n",
    "    return arizona_date_utc.date() == utc_date.date()\n",
    "\n",
    "# Test the function\n",
    "arizona_date_str = \"2024-04-23\"\n",
    "utc_date_str = \"2024-04-23T20:59:07Z\"\n",
    "print(are_dates_equal(arizona_date_str, utc_date_str))\n"
   ]
  }
 ],
 "metadata": {
  "kernelspec": {
   "display_name": "Metrics",
   "language": "python",
   "name": "python3"
  },
  "language_info": {
   "codemirror_mode": {
    "name": "ipython",
    "version": 3
   },
   "file_extension": ".py",
   "mimetype": "text/x-python",
   "name": "python",
   "nbconvert_exporter": "python",
   "pygments_lexer": "ipython3",
   "version": "3.10.12"
  }
 },
 "nbformat": 4,
 "nbformat_minor": 2
}
